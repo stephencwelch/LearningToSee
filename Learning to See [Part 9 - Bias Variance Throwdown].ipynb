{
 "cells": [
  {
   "cell_type": "markdown",
   "metadata": {},
   "source": [
    "<h1 align = 'center'> Learning To See </h1>\n",
    "\n",
    "<h2 align = 'center'> Part 9: Bias Varaince Throwdown </h2>"
   ]
  },
  {
   "cell_type": "markdown",
   "metadata": {},
   "source": [
    "### Import Data and Support Functions"
   ]
  },
  {
   "cell_type": "code",
   "execution_count": 4,
   "metadata": {
    "collapsed": false
   },
   "outputs": [],
   "source": [
    "import matplotlib.pyplot as plt\n",
    "import numpy as np\n",
    "import pickle as pickle\n",
    "import time\n",
    "import supportFunctions\n",
    "import importlib\n",
    "importlib.reload(supportFunctions)\n",
    "\n",
    "pickleFileName = 'data/fingerDataSet' + '.pickle'\n",
    "with open(pickleFileName, 'rb') as pickleFile:\n",
    "    data = pickle.load(pickleFile, encoding='bytes')"
   ]
  },
  {
   "cell_type": "code",
   "execution_count": 2,
   "metadata": {
    "collapsed": true
   },
   "outputs": [],
   "source": [
    "#Return to just using 3 images at training data:\n",
    "trainingExampleIndices = [7, 30, 46]\n",
    "trainingExamples = [data[index] for index in trainingExampleIndices]\n",
    "trainX, trainY = supportFunctions.extractExamplesFromList(trainingExamples, whichImage = b'image1bit', dist = 4)\n",
    "\n",
    "#And two for testing:\n",
    "testingExampleIndices = [40, 41]\n",
    "testingExamples = [data[index] for index in testingExampleIndices]\n",
    "testX, testY = supportFunctions.extractExamplesFromList(testingExamples, whichImage = b'image1bit', dist = 4)"
   ]
  },
  {
   "cell_type": "markdown",
   "metadata": {},
   "source": [
    "### Search For 1 pixel rules"
   ]
  },
  {
   "cell_type": "code",
   "execution_count": 23,
   "metadata": {
    "collapsed": false
   },
   "outputs": [
    {
     "name": "stdout",
     "output_type": "stream",
     "text": [
      "Time elapsed = 0.178 seconds.\n"
     ]
    }
   ],
   "source": [
    "rules = []\n",
    "numErrors = []\n",
    "startTime = time.time()\n",
    "\n",
    "for i in range(81):\n",
    "    yHat = (trainX[:,i] == 0)\n",
    "    numErrors.append(sum(abs(yHat-trainY)))\n",
    "    rules.append([i, 0])\n",
    "\n",
    "    yHat = (trainX[:,i] == 1)\n",
    "    numErrors.append(sum(abs(yHat-trainY)))\n",
    "    rules.append([i, 1])\n",
    "    \n",
    "timeElapsed = time.time()-startTime\n",
    "print ('Time elapsed = ' + str(round(timeElapsed, 3)) + ' seconds.')"
   ]
  },
  {
   "cell_type": "code",
   "execution_count": 43,
   "metadata": {
    "collapsed": false
   },
   "outputs": [],
   "source": [
    "#Find the winner:\n",
    "min_value = np.argmin(np.array(numErrors))"
   ]
  },
  {
   "cell_type": "markdown",
   "metadata": {},
   "source": [
    "Rule number 81 wins!"
   ]
  },
  {
   "cell_type": "markdown",
   "metadata": {},
   "source": [
    "### Visualize Rule"
   ]
  },
  {
   "cell_type": "code",
   "execution_count": 7,
   "metadata": {
    "collapsed": true
   },
   "outputs": [],
   "source": [
    "#Make red and blue colormaps:\n",
    "import matplotlib.colors as mcolors\n",
    "c = mcolors.ColorConverter().to_rgb\n",
    "bw = supportFunctions.make_colormap([(1,1,1), (1,1,1), 0.33, c('blue'), c('blue'), 0.66, c('blue')])\n",
    "rw = supportFunctions.make_colormap([(1,1,1), (1,1,1), 0.33, c('red'), c('red'), 0.66, c('red')])\n",
    "rwb = supportFunctions.make_colormap([c('red'), c('red'), 0.33, (1,1,1), (1,1,1), 0.66, c('blue')])"
   ]
  },
  {
   "cell_type": "code",
   "execution_count": 8,
   "metadata": {
    "collapsed": false
   },
   "outputs": [
    {
     "data": {
      "text/plain": [
       "<matplotlib.image.AxesImage at 0x11489a1c0>"
      ]
     },
     "execution_count": 8,
     "metadata": {},
     "output_type": "execute_result"
    },
    {
     "data": {
      "image/png": "[encoded data removed]",
      "text/plain": [
       "<Figure size 600x600 with 1 Axes>"
      ]
     },
     "metadata": {},
     "output_type": "display_data"
    }
   ],
   "source": [
    "ruleVector = np.zeros(81)\n",
    "ruleVector[40] = 1\n",
    "\n",
    "fig = plt.figure(0, (6,6))\n",
    "plt.imshow(ruleVector.reshape(9,9), interpolation = 'none', cmap = bw)"
   ]
  },
  {
   "cell_type": "markdown",
   "metadata": {},
   "source": [
    "This rule classifies examples as fingers that have ones in the 40 position (shown above) - pretty cool!"
   ]
  },
  {
   "cell_type": "markdown",
   "metadata": {},
   "source": [
    "## Now, let's test its performance!"
   ]
  },
  {
   "cell_type": "code",
   "execution_count": 44,
   "metadata": {
    "collapsed": false
   },
   "outputs": [
    {
     "data": {
      "image/png": "[encoded data removed]",
      "text/plain": [
       "<Figure size 1000x800 with 3 Axes>"
      ]
     },
     "metadata": {},
     "output_type": "display_data"
    }
   ],
   "source": [
    "## First, visualize matches:\n",
    "fig = plt.figure(0, (10, 8))\n",
    "\n",
    "for i in range(3):\n",
    "    fig.add_subplot(1,3,i+1)\n",
    "    imageDict = data[trainingExampleIndices[i]]\n",
    "    \n",
    "    X1, y1 = supportFunctions.extractFeatures(imageDict, whichImage = b'image1bit', dist = 4)\n",
    "    im = supportFunctions.makeGrayScale(imageDict)\n",
    "    \n",
    "    matchingIndices = (X1[:,40]==1)\n",
    "    matchingImage = matchingIndices.reshape(imageDict[b'boxHeight'], imageDict[b'boxWidth'])\n",
    "    \n",
    "    #Paint with matches:\n",
    "    im[:,:,0][matchingImage] = 0\n",
    "    im[:,:,1][matchingImage] = 1\n",
    "    im[:,:,2][matchingImage] = 0\n",
    "    \n",
    "    plt.imshow(im)\n",
    "    plt.axis('off')"
   ]
  },
  {
   "cell_type": "markdown",
   "metadata": {},
   "source": [
    "Thats alot of matches!"
   ]
  },
  {
   "cell_type": "code",
   "execution_count": 45,
   "metadata": {
    "collapsed": false
   },
   "outputs": [
    {
     "name": "stdout",
     "output_type": "stream",
     "text": [
      "[[ 479   16]\n",
      " [1798 5574]]\n"
     ]
    }
   ],
   "source": [
    "#Now, compute confustion matrix on training data:\n",
    "matchingIndices = np.where(trainX[:,40]==1)\n",
    "\n",
    "#Make yHat vector, tells us which pixels our rules predict to be fingers.\n",
    "yHat = np.zeros(trainX.shape[0])\n",
    "yHat[matchingIndices] = 1\n",
    "\n",
    "#Count up False Negatives, False Positives, True Positives, and True Negatives\n",
    "FN =  np.sum(np.logical_and(trainY==1, yHat==0))\n",
    "FP =  np.sum(np.logical_and(trainY==0, yHat==1))\n",
    "TP = np.sum(np.logical_and(trainY==1, yHat==1))\n",
    "TN = np.sum(np.logical_and(trainY==0, yHat==0))\n",
    "    \n",
    "#make confusion matrix:\n",
    "confusionMatrix = np.array([[TP, FN], [FP, TN]])\n",
    "\n",
    "print (confusionMatrix)"
   ]
  },
  {
   "cell_type": "code",
   "execution_count": 11,
   "metadata": {
    "collapsed": false
   },
   "outputs": [
    {
     "name": "stdout",
     "output_type": "stream",
     "text": [
      "0.7694165501461803 0.9676767676767677 0.2103645147123408\n"
     ]
    }
   ],
   "source": [
    "accuracy = float(TP+TN)/float(trainX.shape[0])\n",
    "recall = float(TP)/(TP+FN)\n",
    "precision = float(TP)/(TP+FP)\n",
    "\n",
    "print (accuracy, recall, precision)"
   ]
  },
  {
   "cell_type": "markdown",
   "metadata": {},
   "source": [
    "## Now testing data! Will it generalize!?"
   ]
  },
  {
   "cell_type": "code",
   "execution_count": 14,
   "metadata": {
    "collapsed": false
   },
   "outputs": [
    {
     "data": {
      "image/png": "[encoded data removed]",
      "text/plain": [
       "<Figure size 1000x800 with 2 Axes>"
      ]
     },
     "metadata": {},
     "output_type": "display_data"
    }
   ],
   "source": [
    "## First, visualize matches:\n",
    "fig = plt.figure(0, (10, 8))\n",
    "\n",
    "for i in range(2):\n",
    "    fig.add_subplot(1,3,i+1)\n",
    "    imageDict = data[testingExampleIndices[i]]\n",
    "    \n",
    "    X1, y1 = supportFunctions.extractFeatures(imageDict, whichImage = b'image1bit', dist = 4)\n",
    "    im = supportFunctions.makeGrayScale(imageDict)\n",
    "    \n",
    "    matchingIndices = (X1[:,40]==1)\n",
    "    matchingImage = matchingIndices.reshape(imageDict[b'boxHeight'], imageDict[b'boxWidth'])\n",
    "    \n",
    "    #Paint with matches:\n",
    "    im[:,:,0][matchingImage] = 0\n",
    "    im[:,:,1][matchingImage] = 1\n",
    "    im[:,:,2][matchingImage] = 0\n",
    "    \n",
    "    plt.imshow(im, interpolation = 'none')\n",
    "    plt.axis('off')"
   ]
  },
  {
   "cell_type": "code",
   "execution_count": 15,
   "metadata": {
    "collapsed": false
   },
   "outputs": [
    {
     "name": "stdout",
     "output_type": "stream",
     "text": [
      "[[ 327   14]\n",
      " [ 980 3553]]\n"
     ]
    }
   ],
   "source": [
    "#Now, compute confustion matrix on training data:\n",
    "matchingIndices = np.where(testX[:,40]==1)\n",
    "\n",
    "#Make yHat vector, tells us which pixels our rules predict to be fingers.\n",
    "yHat = np.zeros(testX.shape[0])\n",
    "yHat[matchingIndices] = 1\n",
    "\n",
    "#Count up False Negatives, False Positives, True Positives, and True Negatives\n",
    "FN =  np.sum(np.logical_and(testY==1, yHat==0))\n",
    "FP =  np.sum(np.logical_and(testY==0, yHat==1))\n",
    "TP = np.sum(np.logical_and(testY==1, yHat==1))\n",
    "TN = np.sum(np.logical_and(testY==0, yHat==0))\n",
    "    \n",
    "#make confusion matrix:\n",
    "confusionMatrix = np.array([[TP, FN], [FP, TN]])\n",
    "\n",
    "print (confusionMatrix)"
   ]
  },
  {
   "cell_type": "code",
   "execution_count": 16,
   "metadata": {
    "collapsed": false
   },
   "outputs": [
    {
     "name": "stdout",
     "output_type": "stream",
     "text": [
      "0.7960607304062371 0.9589442815249267 0.2501912777352716\n"
     ]
    }
   ],
   "source": [
    "accuracy = float(TP+TN)/float(testX.shape[0])\n",
    "recall = float(TP)/(TP+FN)\n",
    "precision = float(TP)/(TP+FP)\n",
    "\n",
    "print (accuracy, recall, precision)"
   ]
  },
  {
   "cell_type": "markdown",
   "metadata": {},
   "source": [
    "Woohoo! Our method generalizes! We really made a hand detector, not a finger detector. But hopefully it's a step in the right direction. "
   ]
  },
  {
   "cell_type": "code",
   "execution_count": null,
   "metadata": {
    "collapsed": true
   },
   "outputs": [],
   "source": []
  }
 ],
 "metadata": {
  "kernelspec": {
   "display_name": "Python 3",
   "language": "python",
   "name": "python3"
  },
  "language_info": {
   "codemirror_mode": {
    "name": "ipython",
    "version": 3
   },
   "file_extension": ".py",
   "mimetype": "text/x-python",
   "name": "python",
   "nbconvert_exporter": "python",
   "pygments_lexer": "ipython3",
   "version": "3.9.6"
  },
  "latex_envs": {
   "bibliofile": "biblio.bib",
   "cite_by": "apalike",
   "current_citInitial": 1,
   "eqLabelWithNumbers": true,
   "eqNumInitial": 0
  },
  "toc": {
   "toc_cell": false,
   "toc_number_sections": false,
   "toc_threshold": 6,
   "toc_window_display": false
  },
  "vscode": {
   "interpreter": {
    "hash": "31f2aee4e71d21fbe5cf8b01ff0e069b9275f58929596ceb00d14d90e3e16cd6"
   }
  }
 },
 "nbformat": 4,
 "nbformat_minor": 0
}
